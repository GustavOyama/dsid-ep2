{
 "cells": [
  {
   "cell_type": "code",
   "execution_count": 4,
   "metadata": {},
   "outputs": [
    {
     "data": {
      "text/plain": [
       "'./dsid-ep2/amostras/amostra (1).csv'"
      ]
     },
     "execution_count": 4,
     "metadata": {},
     "output_type": "execute_result"
    }
   ],
   "source": [
    "import wget\n",
    "\n",
    "link = 'https://www.ncei.noaa.gov/data/global-summary-of-the-day/access/1929/03005099999.csv'\n",
    "\n",
    "wget.download(link,out=f'./dsid-ep2/amostras/amostra.csv')"
   ]
  },
  {
   "cell_type": "code",
   "execution_count": 8,
   "metadata": {},
   "outputs": [
    {
     "name": "stdout",
     "output_type": "stream",
     "text": [
      "'amostra (1).csv'     home\t       run\n",
      " amostra.csv\t      initrd.img       sbin\n",
      " bin\t\t      initrd.img.old   snap\n",
      " boot\t\t      lib\t       sparkmonitor_kernelextension.log\n",
      " copyright\t      lib64\t       srv\n",
      " dev\t\t      lost+found       sys\n",
      "'download (1).wget'   media\t       tmp\n",
      " download.wget\t      mnt\t       usr\n",
      " dsid-ep2\t      opt\t       var\n",
      " etc\t\t      proc\t       vmlinuz\n",
      " hadoop\t\t      root\t       vmlinuz.old\n"
     ]
    }
   ],
   "source": [
    "!ls\n"
   ]
  }
 ],
 "metadata": {
  "kernelspec": {
   "display_name": "PySpark",
   "language": "python",
   "name": "pyspark"
  },
  "language_info": {
   "codemirror_mode": {
    "name": "ipython",
    "version": 3
   },
   "file_extension": ".py",
   "mimetype": "text/x-python",
   "name": "python",
   "nbconvert_exporter": "python",
   "pygments_lexer": "ipython3",
   "version": "3.7.4"
  }
 },
 "nbformat": 4,
 "nbformat_minor": 4
}
